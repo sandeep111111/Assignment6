{
 "cells": [
  {
   "cell_type": "code",
   "execution_count": 11,
   "id": "56aa7a79-a703-4bb8-ae95-53c05d6f26c9",
   "metadata": {},
   "outputs": [],
   "source": [
    "#Ans1:\n",
    "#Object-oriented programming contains various structures, known as the building blocks of OOP. These structures include:\n",
    "\n",
    "#Class: A class is a data type that provides a framework for creating objects. \n",
    "#You can define a class to create multiple objects without writing additional code.\n",
    "\n",
    "#Object: In OOP, an object represents an instance, or creation, of a class.\n",
    "#Objects define specific data, such as properties and behaviors, to implement code.\n",
    "#example\n",
    "class demo:\n",
    "    def introduction(self,name):\n",
    "        return 'this is your name '+ name"
   ]
  },
  {
   "cell_type": "code",
   "execution_count": 12,
   "id": "c00c8112-f787-40b7-b0b2-4ff90c071587",
   "metadata": {},
   "outputs": [],
   "source": [
    "a=demo()"
   ]
  },
  {
   "cell_type": "code",
   "execution_count": 13,
   "id": "9c3730cc-f3a6-4bd4-91d2-8501c84a517f",
   "metadata": {},
   "outputs": [
    {
     "data": {
      "text/plain": [
       "'this is your name Sandeep'"
      ]
     },
     "execution_count": 13,
     "metadata": {},
     "output_type": "execute_result"
    }
   ],
   "source": [
    "a.introduction('Sandeep')"
   ]
  },
  {
   "cell_type": "code",
   "execution_count": 14,
   "id": "d54c9266-4160-4bba-b26f-82568d26269b",
   "metadata": {},
   "outputs": [],
   "source": [
    "#Ans2:\n",
    "#The four pillars of object-oriented programming are:\n",
    "\n",
    "#Abstraction\n",
    "#Encapsulation\n",
    "#Inheritance\n",
    "#Polymorphism\n"
   ]
  },
  {
   "cell_type": "code",
   "execution_count": 15,
   "id": "c9b20a44-d1bc-4a9c-b242-4f702295370c",
   "metadata": {},
   "outputs": [],
   "source": [
    "#Ans3:\n",
    "#All classes have a function called __init__ (), which is always executed when the class is being initiated.\n",
    "#Use the __init__ () function to assign values to object properties, or other operations that are necessary to do when the object is being created: "
   ]
  },
  {
   "cell_type": "code",
   "execution_count": 16,
   "id": "13b4e7f1-0884-4a6e-9484-18a48bb8a210",
   "metadata": {},
   "outputs": [],
   "source": [
    "#Ans4:\n",
    "#Self is a fundamental concept to understanding object-oriented programming because, as programmers, we put things “inside” of a function to decompose a problem or operation.\n",
    "#Accessing the function’s name with “Self” is easier than dealing with the whole big chunk of code (block) every time you perform a calculation."
   ]
  },
  {
   "cell_type": "code",
   "execution_count": 1,
   "id": "eff28781-00b3-42e5-94f5-d73a5670a9fd",
   "metadata": {},
   "outputs": [
    {
     "name": "stdout",
     "output_type": "stream",
     "text": [
      "John is a Professor\n",
      "8\n",
      "Lal mani\n",
      "Grandfather name : Lal mani\n",
      "Father name : Rampal\n",
      "Son name : Prince\n"
     ]
    }
   ],
   "source": [
    "#Ans5:\n",
    "#Python is an Object-Oriented Programming language and one of the features of Object-Oriented Programming is Inheritance. Inheritance is the ability of one class to inherit another class. Inheritance provides reusability of code and allows us to create complex and real-world-like relationships among objects.\n",
    "#Python provides five types of Inheritance.\n",
    "\n",
    "#1. Single Inheritance in Python\n",
    "class Person:\n",
    "    def __init__(self, name, age):\n",
    "        self.name = name\n",
    "        self.age = age\n",
    "class Professor(Person):\n",
    "    def isProfessor(self):\n",
    "        return f\"{self.name} is a Professor\"\n",
    "sir = Professor(\"John\", 30)\n",
    "print(sir.isProfessor())\n",
    "\n",
    "#2.Multiple Inheritance in Python\n",
    "class SuperClass1:\n",
    "    num1 = 3\n",
    "class SuperClass2:\n",
    "    num2 = 5\n",
    "class SubClass( SuperClass1, SuperClass2):\n",
    "    def addition(self):\n",
    "        return self.num1 + self.num2\n",
    "obj = SubClass()\n",
    "print(obj.addition())\n",
    "\n",
    "#3.Multilevel Inheritance :\n",
    "class Grandfather:\n",
    " \n",
    "    def __init__(self, grandfathername):\n",
    "        self.grandfathername = grandfathername\n",
    " \n",
    "# Intermediate class\n",
    " \n",
    " \n",
    "class Father(Grandfather):\n",
    "    def __init__(self, fathername, grandfathername):\n",
    "        self.fathername = fathername\n",
    " \n",
    "        # invoking constructor of Grandfather class\n",
    "        Grandfather.__init__(self, grandfathername)\n",
    " \n",
    "# Derived class\n",
    " \n",
    " \n",
    "class Son(Father):\n",
    "    def __init__(self, sonname, fathername, grandfathername):\n",
    "        self.sonname = sonname\n",
    " \n",
    "        # invoking constructor of Father class\n",
    "        Father.__init__(self, fathername, grandfathername)\n",
    " \n",
    "    def print_name(self):\n",
    "        print('Grandfather name :', self.grandfathername)\n",
    "        print(\"Father name :\", self.fathername)\n",
    "        print(\"Son name :\", self.sonname)\n",
    " \n",
    " \n",
    "#  Driver code\n",
    "s1 = Son('Prince', 'Rampal', 'Lal mani')\n",
    "print(s1.grandfathername)\n",
    "s1.print_name()\n",
    "#4.Hierarchical Inheritance: \n"
   ]
  },
  {
   "cell_type": "code",
   "execution_count": null,
   "id": "a04dddab-0492-4170-802b-bfeec65f290b",
   "metadata": {},
   "outputs": [],
   "source": []
  }
 ],
 "metadata": {
  "kernelspec": {
   "display_name": "Python 3 (ipykernel)",
   "language": "python",
   "name": "python3"
  },
  "language_info": {
   "codemirror_mode": {
    "name": "ipython",
    "version": 3
   },
   "file_extension": ".py",
   "mimetype": "text/x-python",
   "name": "python",
   "nbconvert_exporter": "python",
   "pygments_lexer": "ipython3",
   "version": "3.10.8"
  }
 },
 "nbformat": 4,
 "nbformat_minor": 5
}
